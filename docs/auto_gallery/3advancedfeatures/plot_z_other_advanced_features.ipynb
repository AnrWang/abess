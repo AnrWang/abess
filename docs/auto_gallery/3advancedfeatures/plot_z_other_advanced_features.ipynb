{
  "cells": [
    {
      "cell_type": "code",
      "execution_count": null,
      "metadata": {
        "collapsed": false
      },
      "outputs": [],
      "source": [
        "%matplotlib inline"
      ]
    },
    {
      "cell_type": "markdown",
      "metadata": {},
      "source": [
        "\n# Other Advanced Features\n"
      ]
    },
    {
      "cell_type": "markdown",
      "metadata": {},
      "source": [
        "## Integrate SIS\nUltra-high dimensional predictors increase computational cost but reduce estimation accuracy for any statistical procedure. To reduce dimensionality from high to a relatively acceptable level, a fairly general asymptotic framework, named feature screening (sure independence screening) is proposed to tackle even exponentially growing dimension. The feature screening can theoretically maintain all effective predictors with a high probability, which is called \"the sure screening property\".\n\nIn our program, to carrying out the Integrate SIS, user need to pass an integer smaller than the number of the predictors to the `screening_size`. Then the program will first calculate the marginal likelihood of each predictor and reserve those predictors with the `screening_size` largest marginal likelihood. Then, the ABESS algorithm is conducted only on this screened subset. \n\nHere is an example.\n\n"
      ]
    },
    {
      "cell_type": "code",
      "execution_count": null,
      "metadata": {
        "collapsed": false
      },
      "outputs": [],
      "source": [
        "import numpy as np\nfrom abess.datasets import make_glm_data\nfrom abess.linear import LinearRegression\n\nnp.random.seed(0)\n\nn = 100\np = 1000\nk = 3\nnp.random.seed(2)\n\n# gene data\ndt = make_glm_data(n = n, p = p, k = k, family = 'gaussian')\nprint('real coefficients\\' indexes:', np.nonzero(dt.coef_)[0])\n\n# fit\nmodel = LinearRegression(support_size = range(0, 5), screening_size = 100)\nmodel.fit(dt.x, dt.y)\nprint('fitted coefficients\\' indexes:', np.nonzero(model.coef_)[0])"
      ]
    },
    {
      "cell_type": "markdown",
      "metadata": {},
      "source": [
        "## User-specified cross validation division\nSometimes, especially when running a test, we would like to fix the train and valid data used in cross validation, instead of choosing them randomly.\nOne simple method is to fix a random seed, such as `numpy.random.seed()`. But in some cases, we would also like to specify which samples would be in the same \"fold\", which has great flexibility.\n\nIn our program, an additional argument `cv_fold_id` is for this user-specified cross validation division. An integer array with the same size of input samples can be given, and those with same integer would be assigned to the same \"fold\" in K-fold CV.\n\n"
      ]
    },
    {
      "cell_type": "code",
      "execution_count": null,
      "metadata": {
        "collapsed": false
      },
      "outputs": [],
      "source": [
        "n = 100\np = 1000\nk = 3\nnp.random.seed(2)\n\ndt = make_glm_data(n = n, p = p, k = k, family = 'gaussian')\n\n# cv_fold_id has a size of `n`\n# cv_fold_id has `cv` different integers\ncv_fold_id = [1 for i in range(30)] + [2 for i in range(30)] + [3 for i in range(40)] \n\nmodel = LinearRegression(support_size = range(0, 5), cv = 3)\nmodel.fit(dt.x, dt.y, cv_fold_id = cv_fold_id)\nprint('fitted coefficients\\' indexes:', np.nonzero(model.coef_)[0])"
      ]
    },
    {
      "cell_type": "markdown",
      "metadata": {},
      "source": [
        "## User-specified initial active set\nWe believe that it worth allowing given an initial active set so that the splicing process starts from this set for each sparsity. \nIt might come from prior analysis, whose result is not quite precise but better than random selection, so the algorithm can run more efficiently. Or you just want to give different initial sets to test the stability of the algorithm.\n\n*Note that this is NOT equal to `always_select`, since they can be exchanged to inactive set when splicing.*\n\nTo specify initial active set, an additive argument `A_init` should be given in `fit()`.\n\n"
      ]
    },
    {
      "cell_type": "code",
      "execution_count": null,
      "metadata": {
        "collapsed": false
      },
      "outputs": [],
      "source": [
        "n = 100\np = 10\nk = 3\nnp.random.seed(2)\n\ndt = make_glm_data(n = n, p = p, k = k, family = 'gaussian')\n\nmodel = LinearRegression(support_size = range(0, 5))\nmodel.fit(dt.x, dt.y, A_init = [0, 1, 2])"
      ]
    },
    {
      "cell_type": "markdown",
      "metadata": {},
      "source": [
        "Some strategies for initial active set are:\n\n- If `sparsity = len(A_init)`, the splicing process would start from `A_init`.\n- If `sparsity > len(A_init)`, the initial set includes `A_init` and other variables `inital screening` chooses.\n- If `sparsity < len(A_init)`, the initial set includes part of `A_init`.\n- If both `A_init` and `always_select` are given, `always_select` first.\n- For warm-start, `A_init` will only affect splicing under the first sparsity in `support_size`.\n- For CV, `A_init` will affect each fold but not the re-fitting on full data.\n\n## R tutorial\nFor R tutorial, please view [https://abess-team.github.io/abess/articles/v07-advancedFeatures.html](https://abess-team.github.io/abess/articles/v07-advancedFeatures.html).\n\n"
      ]
    }
  ],
  "metadata": {
    "kernelspec": {
      "display_name": "Python 3",
      "language": "python",
      "name": "python3"
    },
    "language_info": {
      "codemirror_mode": {
        "name": "ipython",
        "version": 3
      },
      "file_extension": ".py",
      "mimetype": "text/x-python",
      "name": "python",
      "nbconvert_exporter": "python",
      "pygments_lexer": "ipython3",
      "version": "3.10.2"
    }
  },
  "nbformat": 4,
  "nbformat_minor": 0
}