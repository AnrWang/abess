{
  "cells": [
    {
      "cell_type": "code",
      "execution_count": null,
      "metadata": {
        "collapsed": false
      },
      "outputs": [],
      "source": [
        "%matplotlib inline"
      ]
    },
    {
      "cell_type": "markdown",
      "metadata": {},
      "source": [
        "\n# Nuisance Regression\nNuisance regression refers to best subset selection with some prior information that some variables are required to stay in the active set. For example, if we are interested in a certain gene and want to find out what other genes are associated with the response when this particular gene shows effect.\n\nIn the `LinearRegression()` (or other methods), the argument `always_select` is designed to realize this goal. User can pass a vector containing the indexes of the target variables to `always_select`. Here is an example.\n"
      ]
    },
    {
      "cell_type": "code",
      "execution_count": null,
      "metadata": {
        "collapsed": false
      },
      "outputs": [],
      "source": [
        "import numpy as np\nfrom abess.datasets import make_glm_data\nfrom abess.linear import LinearRegression\n\nnp.random.seed(0)\n\n# gene data\nn = 100\np = 20\nk = 5\ndt = make_glm_data(n = n, p = p, k = k, family = 'gaussian')\nprint('real coefficients:\\n', dt.coef_, '\\n')\nprint('real coefficients\\' indexes:\\n', np.nonzero(dt.coef_)[0])\n\nmodel = LinearRegression(support_size = range(0, 6))\nmodel.fit(dt.x, dt.y)\nprint('fitted coefficients:\\n', model.coef_, '\\n')\nprint('fitted coefficients\\' indexes:\\n', np.nonzero(model.coef_)[0])"
      ]
    },
    {
      "cell_type": "markdown",
      "metadata": {},
      "source": [
        "The coefficients are located in \\[2, 5, 10, 11, 18\\]. \nBut if we suppose that the 7th and 8th variables are worthy to be included in the model, we can call:\n\n"
      ]
    },
    {
      "cell_type": "code",
      "execution_count": null,
      "metadata": {
        "collapsed": false
      },
      "outputs": [],
      "source": [
        "model = LinearRegression(support_size = range(0, 6), always_select = [7, 8])\nmodel.fit(dt.x, dt.y)\nprint('fitted coefficients:\\n', model.coef_, '\\n')\nprint('fitted coefficients\\' indexes:\\n', np.nonzero(model.coef_)[0])"
      ]
    },
    {
      "cell_type": "markdown",
      "metadata": {},
      "source": [
        "Now the variables we chosen are always in the model.\n\n## R tutorial\nFor R tutorial, please view [https://abess-team.github.io/abess/articles/v07-advancedFeatures.html](https://abess-team.github.io/abess/articles/v07-advancedFeatures.html).\n\n"
      ]
    }
  ],
  "metadata": {
    "kernelspec": {
      "display_name": "Python 3",
      "language": "python",
      "name": "python3"
    },
    "language_info": {
      "codemirror_mode": {
        "name": "ipython",
        "version": 3
      },
      "file_extension": ".py",
      "mimetype": "text/x-python",
      "name": "python",
      "nbconvert_exporter": "python",
      "pygments_lexer": "ipython3",
      "version": "3.7.4"
    }
  },
  "nbformat": 4,
  "nbformat_minor": 0
}