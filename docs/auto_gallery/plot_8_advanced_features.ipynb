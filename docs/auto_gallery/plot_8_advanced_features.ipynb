{
  "cells": [
    {
      "cell_type": "code",
      "execution_count": null,
      "metadata": {
        "collapsed": false
      },
      "outputs": [],
      "source": [
        "%matplotlib inline"
      ]
    },
    {
      "cell_type": "markdown",
      "metadata": {},
      "source": [
        "\n# Advanced Features\n\nWhen analyzing the real world datasets, we may have the following targets:\n \n1. certain variables must be selected when some prior information is given;\n2. selecting the weak signal variables when the prediction performance is mainly interested;\n3. identifying predictors when group structure are provided;\n4. pre-excluding a part of predictors when datasets have ultra high-dimensional predictors;\n5. specify the division of sample in cross validation;\n6. specify the initial active set before splicing.\n\nIn the following content, we will illustrate the statistic methods to reach these targets in a one-by-one manner, and give quick examples to show how to perform the statistic methods in `LinearRegression` and the same steps can be implemented in all methods. Actually, in our methods, the targets can be properly handled by simply change some default arguments in the functions. \n"
      ]
    },
    {
      "cell_type": "code",
      "execution_count": null,
      "metadata": {
        "collapsed": false
      },
      "outputs": [],
      "source": [
        "# Nuisance Regression\n# ----------------------------\n# Nuisance regression refers to best subset selection with some prior information that some variables are required to stay in the active set. For example, if we are interested in a certain gene and want to find out what other genes are associated with the response when this particular gene shows effect.\n# \n# In the `LinearRegression()` (or other methods), the argument `always_select` is designed to realize this goal. User can pass a vector containing the indexes of the target variables to `always_select`. Here is an example.\n\n\nimport numpy as np\nfrom abess.datasets import make_glm_data\nfrom abess.linear import LinearRegression\n\nnp.random.seed(0)\n\n# gene data\nn = 100\np = 20\nk = 5\ndt = make_glm_data(n = n, p = p, k = k, family = 'gaussian')\nprint('real coefficients:\\n', dt.coef_, '\\n')\nprint('real coefficients\\' indexes:\\n', np.nonzero(dt.coef_)[0])\n\n\nmodel = LinearRegression(support_size = range(0, 6))\nmodel.fit(dt.x, dt.y)\nprint('fitted coefficients:\\n', model.coef_, '\\n')\nprint('fitted coefficients\\' indexes:\\n', np.nonzero(model.coef_)[0])"
      ]
    },
    {
      "cell_type": "markdown",
      "metadata": {},
      "source": [
        "The coefficients are located in \\[2, 5, 10, 11, 18\\]. \nBut if we suppose that the 7th and 8th variables are worthy to be included in the model, we can call:\n\n"
      ]
    },
    {
      "cell_type": "code",
      "execution_count": null,
      "metadata": {
        "collapsed": false
      },
      "outputs": [],
      "source": [
        "model = LinearRegression(support_size = range(0, 6), always_select = [7, 8])\nmodel.fit(dt.x, dt.y)\nprint('fitted coefficients:\\n', model.coef_, '\\n')\nprint('fitted coefficients\\' indexes:\\n', np.nonzero(model.coef_)[0])"
      ]
    },
    {
      "cell_type": "markdown",
      "metadata": {},
      "source": [
        "Now the variables we chosen are always in the model.\n\n## Regularized Adaptive Best Subset Selection\nIn some cases, especially under low signal-to-noise ratio (SNR) setting or predictors are highly correlated, the vallina type of $L_0$ constrained model may not be satisfying and a more sophisticated trade-off between bias and variance is needed. Under this concern, the `abess` pakcage provides option of best subset selection with $L_2$ norm regularization called the regularized bess. The model has this following form:\n\n..math::\n    \\arg\\min_\\beta L(\\beta) + \\alpha \\|\\beta\\|_2^2.\n\nTo implement the regularized bess, user need to specify a value to an additive argument `alpha` in the `LinearRegression()` function (or other methods). This value corresponds to the penalization parameter in the model above. \n\nLet\u2019s test the regularized best subset selection against the no-regularized one over 100 replicas in terms of prediction performance. With argument `snr` in `make_glm_data()`, we can add white noise into generated data.\n\n"
      ]
    },
    {
      "cell_type": "code",
      "execution_count": null,
      "metadata": {
        "collapsed": false
      },
      "outputs": [],
      "source": [
        "loss = np.zeros((2, 100))\ncoef = np.repeat([1, 0], [5, 25])\nfor i in range(100):\n    np.random.seed(i)\n    train = make_glm_data(n = 100, p = 30, k = 5, family = 'gaussian', coef_ = coef, snr = 0.05)\n    np.random.seed(i + 100)\n    test = make_glm_data(n = 100, p = 30, k = 5, family = 'gaussian', coef_ = coef, snr = 0.05)\n    \n    # normal\n    model = LinearRegression()\n    model.fit(train.x, train.y)\n    loss[0, i] = np.linalg.norm(model.predict(test.x) - test.y)\n    # regularized\n    model = LinearRegression(alpha = 0.7)\n    model.fit(train.x, train.y)\n    loss[1, i] = np.linalg.norm(model.predict(test.x) - test.y)\n\nprint(\"normal model's loss:\", np.mean(loss[0,:]))\nprint(\"regularized model's loss:\", np.mean(loss[1,:]))"
      ]
    },
    {
      "cell_type": "markdown",
      "metadata": {},
      "source": [
        "The regularized model has a lower test loss. And we can also make a boxplot:\n\n"
      ]
    },
    {
      "cell_type": "code",
      "execution_count": null,
      "metadata": {
        "collapsed": false
      },
      "outputs": [],
      "source": [
        "import matplotlib.pyplot as plt\nplt.boxplot([loss[0,:], loss[1,:]], labels = ['ABESS', 'RABESS'])\nplt.show()"
      ]
    },
    {
      "cell_type": "markdown",
      "metadata": {},
      "source": [
        "We see that the regularized best subset select (\"RABESS\" in figure)  indeed reduces the prediction error.\n\n"
      ]
    },
    {
      "cell_type": "code",
      "execution_count": null,
      "metadata": {
        "collapsed": false
      },
      "outputs": [],
      "source": [
        "# Best group subset selection\n# ---------------------------------\n# Best group subset selection (BGSS) aims to choose a small part of non-overlapping groups to achieve the best interpretability on the response variable. BGSS is practically useful for the analysis of ubiquitously existing variables with certain group structures. For instance, a categorical variable with several levels is often represented by a group of dummy variables. Besides, in a nonparametric additive model, a continuous component can be represented by a set of basis functions (e.g., a linear combination of spline basis functions). Finally, specific prior knowledge can impose group structures on variables. A typical example is that the genes belonging to the same biological pathway can be considered as a group in the genomic data analysis.\n# \n# The BGSS can be achieved by solving:\n# \n# ..math::\n#     \\min_{\\beta\\in \\mathbb{R}^p} \\frac{1}{2n} ||y-X\\beta||_2^2,\\quad s.t.\\ ||\\beta||_{0,2}\\leq s .\n# \n# \n# where $||\\beta||_{0,2} = \\sum_{j=1}^J I(||\\beta_{G_j}||_2\\neq 0)` in which $||\\cdot||_2` is the $L_2` norm and model size $s` is a positive integer to be determined from data. Regardless of the NP-hard of this problem, Zhang et al develop a certifiably polynomial algorithm to solve it. This algorithm is integrated in the `abess` package, and user can handily select best group subset by assigning a proper value to the `group` arguments:\n# \n# We still use the dataset `dt` generated before, which has 100 samples, 5 useful variables and 15 irrelevant varibales.\n\n\n\nprint('real coefficients:\\n', dt.coef_, '\\n')\n\n\n# Support we have some prior information that every 5 variables as a group:\n\n\n\ngroup = np.linspace(0, 3, 4).repeat(5)\nprint('group index:\\n', group)\n\n\n# Then we can set the `group` argument in function. Besides, the `support_size` here indicates the number of groups, instead of the number of variables.\n\n\n\nmodel = LinearRegression(support_size = range(0, 3))\nmodel.fit(dt.x, dt.y, group = group)\nprint('coefficients:\\n', model.coef_)"
      ]
    },
    {
      "cell_type": "markdown",
      "metadata": {},
      "source": [
        "The fitted result suggest that only two groups are selected (since `support_size` is from 0 to 2) and the selected variables are shown before.\n\n## Integrate SIS\nUltra-high dimensional predictors increase computational cost but reduce estimation accuracy for any statistical procedure. To reduce dimensionality from high to a relatively acceptable level, a fairly general asymptotic framework, named feature screening (sure independence screening) is proposed to tackle even exponentially growing dimension. The feature screening can theoretically maintain all effective predictors with a high probability, which is called \"the sure screening property\".\n\nIn our program, to carrying out the Integrate SIS, user need to pass an integer smaller than the number of the predictors to the `screening_size`. Then the program will first calculate the marginal likelihood of each predictor and reserve those predictors with the `screening_size` largest marginal likelihood. Then, the ABESS algorithm is conducted only on this screened subset. \n\nHere is an example.\n\n"
      ]
    },
    {
      "cell_type": "code",
      "execution_count": null,
      "metadata": {
        "collapsed": false
      },
      "outputs": [],
      "source": [
        "n = 100\np = 1000\nk = 3\nnp.random.seed(2)\n\n# gene data\ndt = make_glm_data(n = n, p = p, k = k, family = 'gaussian')\nprint('real coefficients\\' indexes:', np.nonzero(dt.coef_)[0])\n\n# fit\nmodel = LinearRegression(support_size = range(0, 5), screening_size = 100)\nmodel.fit(dt.x, dt.y)\nprint('fitted coefficients\\' indexes:', np.nonzero(model.coef_)[0])\n\n\n# User-specified cross validation division\n# ---------------------------------------------\n# Sometimes, especially when running a test, we would like to fix the train and valid data used in cross validation, instead of choosing them randomly.\n# One simple method is to fix a random seed, such as `numpy.random.seed()`. But in some cases, we would also like to specify which samples would be in the same \"fold\", which has great flexibility.\n# \n# In our program, an additional argument `cv_fold_id` is for this user-specified cross validation division. An integer array with the same size of input samples can be given, and those with same integer would be assigned to the same \"fold\" in K-fold CV.\n\n\n\nn = 100\np = 1000\nk = 3\nnp.random.seed(2)\n\ndt = make_glm_data(n = n, p = p, k = k, family = 'gaussian')\n\n# cv_fold_id has a size of `n`\n# cv_fold_id has `cv` different integers\ncv_fold_id = [1 for i in range(30)] + [2 for i in range(30)] + [3 for i in range(40)] \n\nmodel = LinearRegression(support_size = range(0, 5), cv = 3)\nmodel.fit(dt.x, dt.y, cv_fold_id = cv_fold_id)\nprint('fitted coefficients\\' indexes:', np.nonzero(model.coef_)[0])\n\n\n# User-specified initial active set\n# -----------------------------------------\n# We believe that it worth allowing given an initial active set so that the splicing process starts from this set for each sparsity. \n# It might come from prior analysis, whose result is not quite precise but better than random selection, so the algorithm can run more efficiently. Or you just want to give different initial sets to test the stability of the algorithm.\n# \n# *Note that this is NOT equal to `always_select`, since they can be exchanged to inactive set when splicing.*\n# \n# To specify initial active set, an additive argument `A_init` should be given in `fit()`.\n\n\nn = 100\np = 10\nk = 3\nnp.random.seed(2)\n\ndt = make_glm_data(n = n, p = p, k = k, family = 'gaussian')\n\nmodel = LinearRegression(support_size = range(0, 5))\nmodel.fit(dt.x, dt.y, A_init = [0, 1, 2])"
      ]
    },
    {
      "cell_type": "markdown",
      "metadata": {},
      "source": [
        "Some strategies for initial active set are:\n\n- If $sparsity = len(A\\_init)$, the splicing process would start from $A\\_init$.\n- If $sparsity > len(A\\_init)$, the initial set includes $A\\_init` and other variables `inital screening` chooses.\n- If $sparsity < len(A\\_init)$, the initial set includes part of $A\\_init$.\n- If both `A_init` and `always_select` are given, `always_select` first.\n- For warm-start, `A_init` will only affect splicing under the first sparsity in `support_size`.\n- For CV, `A_init` will affect each fold but not the re-fitting on full data.\n\n"
      ]
    },
    {
      "cell_type": "code",
      "execution_count": null,
      "metadata": {
        "collapsed": false
      },
      "outputs": [],
      "source": [
        "# R tutorial\n# -----------------------\n# For R tutorial, please view [https://abess-team.github.io/abess/articles/v07-advancedFeatures.html](https://abess-team.github.io/abess/articles/v07-advancedFeatures.html)."
      ]
    }
  ],
  "metadata": {
    "kernelspec": {
      "display_name": "Python 3",
      "language": "python",
      "name": "python3"
    },
    "language_info": {
      "codemirror_mode": {
        "name": "ipython",
        "version": 3
      },
      "file_extension": ".py",
      "mimetype": "text/x-python",
      "name": "python",
      "nbconvert_exporter": "python",
      "pygments_lexer": "ipython3",
      "version": "3.7.4"
    }
  },
  "nbformat": 4,
  "nbformat_minor": 0
}