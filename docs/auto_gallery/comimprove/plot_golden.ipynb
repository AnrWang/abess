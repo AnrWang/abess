{
  "cells": [
    {
      "cell_type": "code",
      "execution_count": null,
      "metadata": {
        "collapsed": false
      },
      "outputs": [],
      "source": [
        "%matplotlib inline"
      ]
    },
    {
      "cell_type": "markdown",
      "metadata": {},
      "source": [
        "\n# Golden-section searching\n"
      ]
    },
    {
      "cell_type": "markdown",
      "metadata": {},
      "source": [
        "Here we generate a simple example and draw the path of scores of information criterion. Typically, the curve should be a strictly unimodal function achieving minimum at the true subset size.\n\n"
      ]
    },
    {
      "cell_type": "code",
      "execution_count": null,
      "metadata": {
        "collapsed": false
      },
      "outputs": [],
      "source": [
        "import numpy as np\nimport matplotlib.pyplot as plt\nfrom abess.datasets import make_glm_data\n\nnp.random.seed(0)\ndata = make_glm_data(n = 100, p = 20, k = 5, family = 'gaussian')\n\nic = np.zeros(21)\nfor sz in range(21):\n    model = LinearRegression(support_size = [sz], ic_type = 'ebic')\n    model.fit(data.x, data.y)\n    ic[sz] = model.ic_\n\nprint(\"lowest point: \", np.argmin(ic))\nplt.plot(ic, 'o-')\nplt.xlabel('support_size')\nplt.ylabel('EBIC')\nplt.show()"
      ]
    },
    {
      "cell_type": "markdown",
      "metadata": {},
      "source": [
        "Here the generated data contains 100 observations with 20 predictors, while 5 of them are useful (should be non-zero). The default information criterion is EBIC. From the figure, we can find that \"support_size = 5\" is the lowest point.\n\nCompared with searching the optimal support size one by one from a candidate set with $O(s_{max})$ complexity, **golden-section** reduce the time complexity to $O(ln(s_{max}))$, giving a significant computational improvement.\n\nIn `abess` package, this can be easily formed like:\n\n"
      ]
    },
    {
      "cell_type": "code",
      "execution_count": null,
      "metadata": {
        "collapsed": false
      },
      "outputs": [],
      "source": [
        "model = LinearRegression(path_type = 'gs', s_min = 0, s_max = 20)\nmodel.fit(data.x, data.y)\nprint(\"real coef:\\n\", np.nonzero(data.coef_)[0])\nprint(\"predicted coef:\\n\", np.nonzero(model.coef_)[0])"
      ]
    },
    {
      "cell_type": "markdown",
      "metadata": {},
      "source": [
        "where `path_type = gs` means golden-section and `s_min`, `s_max` indicates the left and right bound of range of the support size. Note that in golden-section searching, we should not give `support_size`, which is only useful for sequential strategy.\n\nThe output of golden-section strategy suggests the optimal model size is accurately detected. Compare to the sequential searching, the golden section reduce the runtime because it skip some support sizes which are likely to be a non-optimal one:\n\n"
      ]
    },
    {
      "cell_type": "code",
      "execution_count": null,
      "metadata": {
        "collapsed": false
      },
      "outputs": [],
      "source": [
        "from time import time\n\nt1 = time()\nmodel = LinearRegression(support_size = range(21))\nmodel.fit(data.x, data.y)\nprint(\"sequential time: \", time() - t1)\n\nt2 = time()\nmodel = LinearRegression(path_type = 'gs', s_min = 0, s_max = 20)\nmodel.fit(data.x, data.y)\nprint(\"golden-section time: \", time() - t2)"
      ]
    },
    {
      "cell_type": "markdown",
      "metadata": {},
      "source": [
        "The golden-section runs much faster than sequential method, espectially when the range of support size is large.\n\n"
      ]
    },
    {
      "cell_type": "markdown",
      "metadata": {},
      "source": [
        "## R tutorial\n\nFor R tutorial, please view [https://abess-team.github.io/abess/articles/v09-fasterSetting.html](https://abess-team.github.io/abess/articles/v09-fasterSetting.html).\n\n"
      ]
    }
  ],
  "metadata": {
    "kernelspec": {
      "display_name": "Python 3",
      "language": "python",
      "name": "python3"
    },
    "language_info": {
      "codemirror_mode": {
        "name": "ipython",
        "version": 3
      },
      "file_extension": ".py",
      "mimetype": "text/x-python",
      "name": "python",
      "nbconvert_exporter": "python",
      "pygments_lexer": "ipython3",
      "version": "3.7.4"
    }
  },
  "nbformat": 4,
  "nbformat_minor": 0
}