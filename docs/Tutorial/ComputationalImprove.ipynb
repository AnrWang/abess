{
 "metadata": {
  "language_info": {
   "codemirror_mode": {
    "name": "ipython",
    "version": 3
   },
   "file_extension": ".py",
   "mimetype": "text/x-python",
   "name": "python",
   "nbconvert_exporter": "python",
   "pygments_lexer": "ipython3",
   "version": "3.8.5"
  },
  "orig_nbformat": 4,
  "kernelspec": {
   "name": "python3",
   "display_name": "Python 3.8.5 64-bit"
  },
  "interpreter": {
   "hash": "31f2aee4e71d21fbe5cf8b01ff0e069b9275f58929596ceb00d14d90e3e16cd6"
  }
 },
 "nbformat": 4,
 "nbformat_minor": 2,
 "cells": [
  {
   "cell_type": "markdown",
   "source": [
    "# Computational Improve\n",
    "\n",
    "The generic splicing technique certifiably guarantees the best subset can be selected in a polynomial time. In practice, the computational efficiency can be improved to handle large scale datasets. The tips for computational improvement include:\n",
    "\n",
    "- exploit sparse strucute of input matrix;\n",
    "- use golden-section to search best support size;\n",
    "- early-stop scheme;\n",
    "- sure independence screening;\n",
    "- warm-start initialization;\n",
    "- parallel computing when performing cross validation;\n",
    "- covariance update for `abessLm` or `abessMultigaussian`;\n",
    "- approximate Newton iteration for `abessLogistic`, `abessPoisson`, `abessCox`.\n",
    "\n",
    "This vignette illustrate the first two tips. For the other tips, they have been efficiently implemented and set as the default in abess package.\n",
    "\n",
    "## Sparse matrix\n",
    "\n",
    "We sometimes meet with problems where the $N×p$ input matrix $X$ is extremely sparse, i.e., many entries in $X$ have zero values. A notable example comes from document classification: aiming to assign classes to a document, making it easier to manage for publishers and news sites. The input variables for characterizing documents are generated from a so called \"bag-of-words\" model. In this model, each variable is scored for the presence of each of the words in the entire dictionary under consideration. Since most words are absent, the input variables for each document is mostly zero, and so the entire matrix is mostly zero. \n",
    "\n",
    "For example, we create a sparse matrix like:"
   ],
   "metadata": {}
  },
  {
   "cell_type": "code",
   "execution_count": 1,
   "source": [
    "from scipy.sparse import coo_matrix\n",
    "import numpy as np\n",
    "\n",
    "row  = np.array([0, 1, 2, 3, 4, 4,  5, 6, 7, 7, 8, 9])\n",
    "col  = np.array([0, 3, 1, 2, 4, 3, 5, 2, 3, 1, 5, 2])\n",
    "data = np.array([4, 5, 7, 9, 1, 23, 4, 5, 6, 8, 77, 100])\n",
    "x = coo_matrix((data, (row, col)))\n",
    "\n",
    "print(x.toarray())"
   ],
   "outputs": [
    {
     "output_type": "stream",
     "name": "stdout",
     "text": [
      "[[  4   0   0   0   0   0]\n",
      " [  0   0   0   5   0   0]\n",
      " [  0   7   0   0   0   0]\n",
      " [  0   0   9   0   0   0]\n",
      " [  0   0   0  23   1   0]\n",
      " [  0   0   0   0   0   4]\n",
      " [  0   0   5   0   0   0]\n",
      " [  0   8   0   6   0   0]\n",
      " [  0   0   0   0   0  77]\n",
      " [  0   0 100   0   0   0]]\n"
     ]
    }
   ],
   "metadata": {}
  },
  {
   "cell_type": "markdown",
   "source": [
    "The sparse matrix can be directly used in `abess` pacakages. We just need to set argument `sparse_matrix = T`. Note that if the input matrix is not sparse matrix, the program would automatically transfer it into the sparse one, so this argument can also make some improvement."
   ],
   "metadata": {}
  },
  {
   "cell_type": "code",
   "execution_count": 2,
   "source": [
    "from abess import abessLm\n",
    "\n",
    "coef = np.array([1, 1, 1, 0, 0, 0])\n",
    "y = x.dot(coef)\n",
    "model = abessLm(sparse_matrix = True)\n",
    "model.fit(x, y)\n",
    "\n",
    "print(\"real coef: \\n\", coef)\n",
    "print(\"pred coef: \\n\", model.coef_)\n"
   ],
   "outputs": [
    {
     "output_type": "stream",
     "name": "stdout",
     "text": [
      "real coef: \n",
      " [1 1 1 0 0 0]\n",
      "pred coef: \n",
      " [1. 1. 1. 0. 0. 0.]\n"
     ]
    }
   ],
   "metadata": {}
  },
  {
   "cell_type": "markdown",
   "source": [
    "We compare the runtime when the input matrix is dense matrix:"
   ],
   "metadata": {}
  },
  {
   "cell_type": "code",
   "execution_count": 23,
   "source": [
    "from time import time\n",
    "\n",
    "t = time()\n",
    "model = abessLm()\n",
    "model.fit(x.toarray(), y)\n",
    "print(\"dense matrix:  \", time() - t)\n",
    "\n",
    "t = time()\n",
    "model = abessLm(sparse_matrix = True)\n",
    "model.fit(x, y)\n",
    "print(\"sparse matrix:  \", time() - t)"
   ],
   "outputs": [
    {
     "output_type": "stream",
     "name": "stdout",
     "text": [
      "dense matrix:   0.0013453960418701172\n",
      "sparse matrix:   0.0006170272827148438\n"
     ]
    }
   ],
   "metadata": {}
  },
  {
   "cell_type": "markdown",
   "source": [
    "From the comparison, we see that the time required by sparse matrix is smaller, and this sould be more visible when the sparse imput matrix is large. Hence, we suggest to assign a sparse matrix to `abess` when the input matrix have a lot of zero entries."
   ],
   "metadata": {}
  },
  {
   "cell_type": "markdown",
   "source": [
    "## Golden-section searching\n",
    "\n",
    "Here we generate a simple example and draw the path of scores of information criterion. Typically, the curve should be a strictly unimodal function achieving minimum at the true subset size."
   ],
   "metadata": {}
  },
  {
   "cell_type": "code",
   "execution_count": 4,
   "source": [
    "import numpy as np\n",
    "import matplotlib.pyplot as plt\n",
    "from abess import gen_data\n",
    "\n",
    "np.random.seed(0)\n",
    "data = gen_data(n = 100, p = 20, k = 5, family = 'gaussian')\n",
    "\n",
    "ic = np.zeros(21)\n",
    "for sz in range(21):\n",
    "    model = abessLm(support_size = [sz], ic_type = 'ebic')\n",
    "    model.fit(data.x, data.y)\n",
    "    ic[sz] = model.ic_\n",
    "\n",
    "print(\"lowest point: \", np.argmin(ic))\n",
    "plt.plot(ic, 'o-')\n",
    "plt.xlabel('support_size')\n",
    "plt.ylabel('EBIC')\n",
    "plt.show()"
   ],
   "outputs": [
    {
     "output_type": "stream",
     "name": "stdout",
     "text": [
      "lowest point:  5\n"
     ]
    },
    {
     "output_type": "display_data",
     "data": {
      "text/plain": [
       "<Figure size 432x288 with 1 Axes>"
      ],
      "image/png": "[encoded data removed]"
     },
     "metadata": {
      "needs_background": "light"
     }
    }
   ],
   "metadata": {}
  },
  {
   "cell_type": "markdown",
   "source": [
    "Here the generated data contains 100 observations with 20 predictors, while 5 of them are useful (should be non-zero). The default information criterion is EBIC. From the figure, we can find that \"support_size = 5\" is the lowest point.\n",
    "\n",
    "Compared with searching the optimal support size one by one from a candidate set with $O(s_{max})$ complexity, **golden-section** reduce the time complexity to $O(ln(s_{max}))$, giving a significant computational improvement.\n",
    "\n",
    "In `abess` package, this can be easily formed like:"
   ],
   "metadata": {}
  },
  {
   "cell_type": "code",
   "execution_count": 5,
   "source": [
    "model = abessLm(path_type = 'pgs', s_min = 0, s_max = 20)\n",
    "model.fit(data.x, data.y)\n",
    "print(\"real coef:\\n\", np.nonzero(data.coef_)[0])\n",
    "print(\"predicted coef:\\n\", np.nonzero(model.coef_)[0])"
   ],
   "outputs": [
    {
     "output_type": "stream",
     "name": "stdout",
     "text": [
      "real coef:\n",
      " [ 2  5 10 11 18]\n",
      "predicted coef:\n",
      " [ 2  5 10 11 18]\n"
     ]
    }
   ],
   "metadata": {}
  },
  {
   "cell_type": "markdown",
   "source": [
    "where `path_type = pgs` means golden-section and `s_min`, `s_max` indicates the left and right bound of range of the support size. Note that in golden-section searching, we should not give `support_size`, which is only useful for sequential strategy.\n",
    "\n",
    "The output of golden-section strategy suggests the optimal model size is accurately detected. Compare to the sequential searching, the golden section reduce the runtime because it skip some support sizes which are likely to be a non-optimal one:"
   ],
   "metadata": {}
  },
  {
   "cell_type": "code",
   "execution_count": 6,
   "source": [
    "from time import time\n",
    "\n",
    "t1 = time()\n",
    "model = abessLm(support_size = range(21))\n",
    "model.fit(data.x, data.y)\n",
    "print(\"sequential time: \", time() - t1)\n",
    "\n",
    "t2 = time()\n",
    "model = abessLm(path_type = 'pgs', s_min = 0, s_max = 20)\n",
    "model.fit(data.x, data.y)\n",
    "print(\"golden-section time: \", time() - t2)"
   ],
   "outputs": [
    {
     "output_type": "stream",
     "name": "stdout",
     "text": [
      "sequential time:  0.004273414611816406\n",
      "golden-section time:  0.0021483898162841797\n"
     ]
    }
   ],
   "metadata": {}
  },
  {
   "cell_type": "markdown",
   "source": [
    "The golden-section runs much faster than sequential method, espectially when the range of support size is large."
   ],
   "metadata": {}
  }
 ]
}