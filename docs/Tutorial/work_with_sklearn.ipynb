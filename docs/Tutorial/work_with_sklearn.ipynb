{
 "metadata": {
  "language_info": {
   "codemirror_mode": {
    "name": "ipython",
    "version": 3
   },
   "file_extension": ".py",
   "mimetype": "text/x-python",
   "name": "python",
   "nbconvert_exporter": "python",
   "pygments_lexer": "ipython3",
   "version": "3.9.5"
  },
  "orig_nbformat": 4,
  "kernelspec": {
   "name": "python3",
   "display_name": "Python 3.9.5 64-bit"
  },
  "interpreter": {
   "hash": "e7370f93d1d0cde622a1f8e1c04877d8463912d04d973331ad4851f04de6915a"
  }
 },
 "nbformat": 4,
 "nbformat_minor": 2,
 "cells": [
  {
   "source": [
    "# Work with scikit-learn\n",
    "\n",
    "Our code can work with the famous package `sklearn` easily, and here is an example."
   ],
   "cell_type": "markdown",
   "metadata": {}
  },
  {
   "cell_type": "code",
   "execution_count": 8,
   "metadata": {},
   "outputs": [],
   "source": [
    "from abess.linear import abessLogistic\n",
    "from sklearn.datasets import load_breast_cancer\n",
    "from sklearn.pipeline import Pipeline\n",
    "from sklearn.metrics import roc_auc_score, make_scorer, roc_curve\n",
    "from sklearn.preprocessing import PolynomialFeatures\n",
    "from sklearn.model_selection import GridSearchCV\n",
    "import matplotlib.pyplot as plt"
   ]
  },
  {
   "source": [
    "- Establish the process\n",
    "\n",
    "Suppose we would like to extend the original variables to their interactions, and then do `abessLogistic` on them. This can be record with `Pipeline`:"
   ],
   "cell_type": "markdown",
   "metadata": {}
  },
  {
   "cell_type": "code",
   "execution_count": 9,
   "metadata": {},
   "outputs": [],
   "source": [
    "pipe = Pipeline([\n",
    "    ('poly', PolynomialFeatures(include_bias=False)),   # without intercept\n",
    "    ('alogistic', abessLogistic())\n",
    "])"
   ]
  },
  {
   "source": [
    "- Parameter grid\n",
    "\n",
    "We can give different parameters to model and let the program choose the best. Here we should give parameters for `PolynomialFeatures`, for example:"
   ],
   "cell_type": "markdown",
   "metadata": {}
  },
  {
   "cell_type": "code",
   "execution_count": 10,
   "metadata": {},
   "outputs": [],
   "source": [
    "param_grid = {\n",
    "    'poly__interaction_only': [True, False],    # whether the \"self-combination\" (e.g. X^2, X^3) exists\n",
    "    'poly__degree': [1, 2, 3]                   # the degree of polynomial\n",
    "}"
   ]
  },
  {
   "source": [
    "Note that the program would try ALL combinations of what we give, which means that there are $2\\times3=6$ combinations of parameters will be tried.\n",
    "\n",
    "- Criterion\n",
    "\n",
    "After giving a grid of parameters, we should define what is a \"better\" result. For example, the AUR (area under ROC curve) can be a criterion and the larger, the better."
   ],
   "cell_type": "markdown",
   "metadata": {}
  },
  {
   "cell_type": "code",
   "execution_count": 11,
   "metadata": {},
   "outputs": [],
   "source": [
    "scorer = make_scorer(roc_auc_score, greater_is_better = True)"
   ]
  },
  {
   "source": [
    "- Cross Validation\n",
    "\n",
    "For more accurate results, cross validation is often formed. In this example, we use 5-fold CV for parameters searching: "
   ],
   "cell_type": "markdown",
   "metadata": {}
  },
  {
   "cell_type": "code",
   "execution_count": 12,
   "metadata": {},
   "outputs": [],
   "source": [
    "grid_search = GridSearchCV(pipe, param_grid, scoring = scorer, cv = 5)"
   ]
  },
  {
   "source": [
    "- Model fitting\n",
    "\n",
    "Eveything is prepared now. We can simply load the data and put it into `grid_search`: "
   ],
   "cell_type": "markdown",
   "metadata": {}
  },
  {
   "cell_type": "code",
   "execution_count": 13,
   "metadata": {},
   "outputs": [
    {
     "output_type": "stream",
     "name": "stdout",
     "text": [
      "[0.9663829492654472, {'poly__degree': 2, 'poly__interaction_only': True}]\n"
     ]
    }
   ],
   "source": [
    "X, y = load_breast_cancer(return_X_y = True)\n",
    "grid_search.fit(X, y)\n",
    "print([grid_search.best_score_, grid_search.best_params_])"
   ]
  },
  {
   "source": [
    "The best choice of parameter combination is shown above: 2 degree with \"self-combination\"."
   ],
   "cell_type": "markdown",
   "metadata": {}
  }
 ]
}